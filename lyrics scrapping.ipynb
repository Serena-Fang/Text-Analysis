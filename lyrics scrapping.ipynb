{
 "cells": [
  {
   "cell_type": "code",
   "execution_count": 1,
   "metadata": {},
   "outputs": [],
   "source": [
    "import requests  # import the package requests\n",
    "\n",
    "from bs4 import BeautifulSoup  #import BeauifulSoup library from package bs4"
   ]
  },
  {
   "cell_type": "code",
   "execution_count": 2,
   "metadata": {},
   "outputs": [],
   "source": [
    "# Use \"get\" method from requests to get the content of the lyrics web page\n",
    "response = requests.get(\"https://genius.com/Taylor-swift-wildest-dreams-enchanted-lyrics\")\n",
    "lyrics = response.text  # Use lyrics to store the text of the webpage\n",
    "document = BeautifulSoup(lyrics, \"html.parser\")  # Use BeautifulSoup as the parser to parse webpage text"
   ]
  },
  {
   "cell_type": "code",
   "execution_count": 3,
   "metadata": {},
   "outputs": [
    {
     "name": "stdout",
     "output_type": "stream",
     "text": [
      "[Enchanted]\n",
      "This night is sparkling, don't you let it go\n",
      "I'm wonderstruck, blushing all the way home\n",
      "I'll spend forever wondering if you knew\n",
      "That this night is flawless, don't you let it go\n",
      "I'm wonderstruck, dancing around all alone\n",
      "I'll spend forever wondering if you knew\n",
      "I was enchanted to meet you\n",
      "\n",
      "[Wildest Dreams]\n",
      "He said let's get out of this town\n",
      "Drive out of the city, away from the crowds\n",
      "I thought heaven can't help me now\n",
      "Nothing lasts forever, but this is gonna take me down\n",
      "He's so tall and handsome as hell\n",
      "He's so bad but he does it so well\n",
      "I can see the end as it begins\n",
      "My one condition is\n",
      "Say you'll remember me\n",
      "Standing in a nice dress, staring at the sunset, babe\n",
      "Red lips and rosy cheeks\n",
      "Say you'll see me again even if it's just in your\n",
      "Wildest dreams (ah ah)\n",
      "Wildest dreams (ah ah)\n",
      "He said no one has to know what we do\n",
      "His hands are in my hair, his clothes are in my room\n",
      "And his voice is a familiar sound\n",
      "Nothing lasts forever\n",
      "But this is getting good now\n",
      "He's so tall and handsome as hell\n",
      "He's so bad but he does it so well\n",
      "And when we've had our very last kiss\n",
      "My last request is\n",
      "Say you'll remember me\n",
      "Standing in a nice dress, staring at the sunset, babe\n",
      "Red lips and rosy cheeks\n",
      "Say you'll see me again even if it's just in your\n",
      "Wildest dreams (ah ah)\n",
      "Wildest dreams (ah ah)\n",
      "\n",
      "Ooh\n",
      "\n",
      "[Enchanted]\n",
      "This night is sparkling\n",
      "Don't you let it go, don't you let it go\n",
      "This night is flawless\n",
      "Don't you let it go, don't you let it go\n",
      "This night is sparkling\n",
      "Don't you let it go, don't you let it go\n",
      "This night is flawless\n",
      "Don't you let it go\n",
      "\n",
      "[Wildest Dreams]\n",
      "You'll see me in hindsight, tangled up with you all night\n",
      "Burning it down\n",
      "Someday when you leave me\n",
      "I bet these memories follow you around\n",
      "You'll see me in hindsight, tangled up with you all night\n",
      "Burning it down\n",
      "Someday when you leave me\n",
      "I bet these memories follow you around\n",
      "You'll see me in hindsight, tangled up with you all night\n",
      "Burning it down\n",
      "Someday when you leave me\n",
      "I bet these memories follow you around\n",
      "You'll see me in hindsight, tangled up with you all night\n",
      "Burning it down\n",
      "Someday when you leave me\n",
      "I bet these memories follow you around (follow you around)\n",
      "Say you'll remember me\n",
      "Standing in a nice dress, staring at the sunset, babe\n",
      "Red lips and rosy cheeks\n",
      "Say you'll see me again, even if it's just pretend\n",
      "Say you'll remember me\n",
      "Standing in a nice dress, staring at the sunset, babe\n",
      "Red lips and rosy cheeks\n",
      "Say you'll see me again even if it's just in your\n",
      "Wildest dreams (ah ah)\n",
      "Wildest dreams (ah ah)\n",
      "(Even if it's just in your)\n",
      "Wildest dreams (ah ah)\n",
      "Wildest dreams (ah ah)\n",
      "\n",
      "[Enchanted]\n",
      "This night is sparkling\n",
      "Don't you let it go, don't you let it go\n",
      "This night is flawless\n",
      "Don't you let it go, don't you let it go\n",
      "This night is sparkling\n",
      "Don't you let it go, don't you let it go\n",
      "This night is flawless\n",
      "Don't you let it go\n",
      "\n",
      "In your\n",
      "\n",
      "[Wildest Dreams]\n",
      "Wildest dreams (ah ah)\n",
      "Wildest dreams (ah ah)\n",
      "Even if it's just in your\n",
      "Wildest dreams (ah ah)\n",
      "Wildest dreams (ah ah)\n"
     ]
    }
   ],
   "source": [
    "enchanted_lyrics = document.find(\"p\").text # Use find(\"p\") to find the paragraph in the document\n",
    "print(enchanted_lyrics) # Print the result lyrics"
   ]
  },
  {
   "cell_type": "code",
   "execution_count": 4,
   "metadata": {},
   "outputs": [],
   "source": [
    "import requests  # Import requests again\n",
    "client_access_token = 'CPaur6mX_hj-zyIPUCGZf2KQdtB3JQ5iRpsh2cqMvqcS1Co_UDhuRTP16oUYUc4V' # define my client access token\n",
    "base_url = \"http://api.genius.com\" # the URL for the Genius API\n",
    "search_url = base_url + \"/search\" # format the URL for a search\n",
    "search_term = \"Enchanted\" # Enter the search term--song name\n",
    "genius_search_url = f'http://api.genius.com/search?q={search_term}&access_token={client_access_token}' # format the search url\n",
    "resp = requests.get(genius_search_url) \n",
    "data = resp.json() # get the API call"
   ]
  },
  {
   "cell_type": "code",
   "execution_count": 5,
   "metadata": {},
   "outputs": [
    {
     "name": "stdout",
     "output_type": "stream",
     "text": [
      "https://genius.com/Taylor-swift-wildest-dreams-enchanted-lyrics\n"
     ]
    }
   ],
   "source": [
    "artist=\"Taylor Swift\" # enter the artist name\n",
    "lyrics_url = []  # build a new string to store the result url\n",
    "for song in data['response']['hits']: # build the loop for search\n",
    "    if song['result']['primary_artist']['name'] == artist:\n",
    "        lyrics_url = (song['result']['url'])\n",
    "print(lyrics_url) # print the result url"
   ]
  }
 ],
 "metadata": {
  "kernelspec": {
   "display_name": "Python 3",
   "language": "python",
   "name": "python3"
  },
  "language_info": {
   "codemirror_mode": {
    "name": "ipython",
    "version": 3
   },
   "file_extension": ".py",
   "mimetype": "text/x-python",
   "name": "python",
   "nbconvert_exporter": "python",
   "pygments_lexer": "ipython3",
   "version": "3.6.9"
  }
 },
 "nbformat": 4,
 "nbformat_minor": 4
}
